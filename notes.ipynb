{
 "cells": [
  {
   "cell_type": "markdown",
   "metadata": {},
   "source": [
    "### Notes"
   ]
  },
  {
   "cell_type": "code",
   "execution_count": null,
   "metadata": {},
   "outputs": [],
   "source": [
    "%%bash\n",
    "\n",
    "docker volume create clickhouse_vol\n",
    "docker network create app_check_list"
   ]
  },
  {
   "cell_type": "markdown",
   "metadata": {},
   "source": [
    "Clickhouse"
   ]
  },
  {
   "cell_type": "code",
   "execution_count": null,
   "metadata": {},
   "outputs": [],
   "source": [
    "%%bash\n",
    "\n",
    "docker run --rm -d \\\n",
    "    -p 18123:8123 \\\n",
    "    -p 19000:9000 \\\n",
    "    --name my_clickhouse \\\n",
    "    --net=app_check_list \\\n",
    "    -v clickhouse_vol:/var/lib/clickhouse \\\n",
    "    clickhouse/clickhouse-server"
   ]
  },
  {
   "cell_type": "markdown",
   "metadata": {},
   "source": [
    "UI: http://127.0.0.1:18123/play"
   ]
  },
  {
   "cell_type": "markdown",
   "metadata": {},
   "source": [
    "Datalens"
   ]
  },
  {
   "cell_type": "code",
   "execution_count": null,
   "metadata": {},
   "outputs": [],
   "source": [
    "# https://github.com/datalens-tech/datalens"
   ]
  },
  {
   "cell_type": "code",
   "execution_count": null,
   "metadata": {},
   "outputs": [],
   "source": [
    "%%bash\n",
    "\n",
    "git clone https://github.com/datalens-tech/datalens && cd datalens\n",
    "HC=1 UI_PORT=8081 docker compose up"
   ]
  },
  {
   "cell_type": "markdown",
   "metadata": {},
   "source": [
    "Можно использовать ранее созданные БД и на их основе создавать дашборды\n",
    "\n",
    "Для простоты - добавляем в одну сеть --net=app_check_list\n",
    "\n",
    "В строке подключения вместо localhost - host.docker.internal\n",
    "\n",
    "Для clickhouse отключить TLS"
   ]
  },
  {
   "cell_type": "code",
   "execution_count": null,
   "metadata": {},
   "outputs": [],
   "source": []
  }
 ],
 "metadata": {
  "kernelspec": {
   "display_name": "shar-GYPln9HH-py3.11",
   "language": "python",
   "name": "python3"
  },
  "language_info": {
   "name": "python",
   "version": "3.11.5"
  }
 },
 "nbformat": 4,
 "nbformat_minor": 2
}
